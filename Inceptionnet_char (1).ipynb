{
  "nbformat": 4,
  "nbformat_minor": 0,
  "metadata": {
    "colab": {
      "provenance": [],
      "gpuType": "T4"
    },
    "kernelspec": {
      "name": "python3",
      "display_name": "Python 3"
    },
    "language_info": {
      "name": "python"
    },
    "accelerator": "GPU"
  },
  "cells": [
    {
      "cell_type": "code",
      "execution_count": null,
      "metadata": {
        "id": "qb4iBMqOIL9m"
      },
      "outputs": [],
      "source": [
        "import numpy as np\n",
        "import pandas as pd\n",
        "import matplotlib.pyplot as plt\n",
        "from sklearn.model_selection import train_test_split\n",
        "from sklearn.metrics import accuracy_score"
      ]
    },
    {
      "cell_type": "code",
      "source": [
        "from pandas.core.dtypes.common import classes\n",
        "import os\n",
        "from google.colab import drive\n",
        "drive.mount('/content/drive')"
      ],
      "metadata": {
        "colab": {
          "base_uri": "https://localhost:8080/"
        },
        "id": "kmUBslbpIUP5",
        "outputId": "f46ce61e-e4cd-466e-fc81-f9faf3202e4d"
      },
      "execution_count": null,
      "outputs": [
        {
          "output_type": "stream",
          "name": "stdout",
          "text": [
            "Mounted at /content/drive\n"
          ]
        }
      ]
    },
    {
      "cell_type": "code",
      "source": [
        "pip install split-folders\n"
      ],
      "metadata": {
        "colab": {
          "base_uri": "https://localhost:8080/"
        },
        "id": "66-RDh6_IdkH",
        "outputId": "43e167a3-fe1a-4781-ecb2-28a24bf69e82"
      },
      "execution_count": null,
      "outputs": [
        {
          "output_type": "stream",
          "name": "stdout",
          "text": [
            "Looking in indexes: https://pypi.org/simple, https://us-python.pkg.dev/colab-wheels/public/simple/\n",
            "Collecting split-folders\n",
            "  Downloading split_folders-0.5.1-py3-none-any.whl (8.4 kB)\n",
            "Installing collected packages: split-folders\n",
            "Successfully installed split-folders-0.5.1\n"
          ]
        }
      ]
    },
    {
      "cell_type": "code",
      "source": [
        "import splitfolders\n",
        "splitfolders.ratio('/content/drive/MyDrive/finaldataset', output=\"char_output_extended\", seed=1337, ratio=(.8, 0.1,0.1)) "
      ],
      "metadata": {
        "colab": {
          "base_uri": "https://localhost:8080/"
        },
        "id": "LVCoom0hI6C7",
        "outputId": "6ab24128-a350-4cfb-d099-2982d7d9ac5d"
      },
      "execution_count": null,
      "outputs": [
        {
          "output_type": "stream",
          "name": "stderr",
          "text": [
            "Copying files: 5518 files [04:13, 21.80 files/s]\n"
          ]
        }
      ]
    },
    {
      "cell_type": "code",
      "source": [
        "import pandas as pd\n",
        "import numpy as np\n",
        "import os\n",
        "import tensorflow as tf\n",
        "import cv2\n",
        "from tensorflow import keras\n",
        "\n",
        "from  matplotlib import pyplot as plt\n",
        "import matplotlib.image as mpimg\n",
        "get_ipython().run_line_magic('matplotlib', 'inline')"
      ],
      "metadata": {
        "id": "wr0sLYE9I8sD"
      },
      "execution_count": null,
      "outputs": []
    },
    {
      "cell_type": "code",
      "source": [
        "from tensorflow.keras.optimizers import SGD,Adam\n",
        "import tensorflow as tf \n",
        "import keras\n",
        "import numpy as np\n",
        "from keras.layers import Dense, Flatten, Conv2D, MaxPooling2D, Dropout\n",
        "from keras.models import Sequential\n",
        "from six.moves import cPickle as Pickle\n",
        "from keras.datasets import mnist\n",
        "import matplotlib.pyplot as plt\n",
        "import cv2\n",
        "import numpy as np\n",
        "from keras.models import Sequential\n",
        "from keras.layers import Dense, Flatten, Conv2D, MaxPool2D, Dropout\n",
        "from keras.preprocessing.image import ImageDataGenerator\n",
        "from tensorflow.keras.optimizers import SGD,Adam\n",
        "from keras.callbacks import ReduceLROnPlateau, EarlyStopping\n",
        "from tensorflow.keras.utils import to_categorical\n",
        "import pandas as pd\n",
        "import numpy as np\n",
        "from sklearn.model_selection import train_test_split\n",
        "from keras.utils import np_utils\n",
        "import matplotlib.pyplot as plt\n",
        "from tqdm import tqdm_notebook\n",
        "from sklearn.utils import shuffle"
      ],
      "metadata": {
        "id": "-vSx54IHJC8e"
      },
      "execution_count": null,
      "outputs": []
    },
    {
      "cell_type": "code",
      "source": [
        "IMG_WIDTH=299\n",
        "IMG_HEIGHT=299\n",
        "img_folder=r'/content/char_output_extended/train'"
      ],
      "metadata": {
        "id": "rvLz2yQRJ8VT"
      },
      "execution_count": null,
      "outputs": []
    },
    {
      "cell_type": "code",
      "source": [
        "def create_dataset(img_folder):\n",
        "   \n",
        "    img_data_array=[]\n",
        "    class_name=[]\n",
        "   \n",
        "    for dir1 in os.listdir(img_folder):\n",
        "        for file in os.listdir(os.path.join(img_folder, dir1)):\n",
        "       \n",
        "            image_path= os.path.join(img_folder, dir1,  file)\n",
        "            image= cv2.imread( image_path, cv2.COLOR_BGR2RGB)\n",
        "            image=cv2.resize(image, (IMG_HEIGHT, IMG_WIDTH),interpolation = cv2.INTER_AREA)\n",
        "            image=np.array(image)\n",
        "            image = image.astype('float32')\n",
        "            image /= 255 \n",
        "            img_data_array.append(image)\n",
        "            class_name.append(dir1)\n",
        "    return img_data_array, class_name\n",
        "# extract the image array and class name\n",
        "img_data, class_name =create_dataset(r'/content/char_output_extended/train')"
      ],
      "metadata": {
        "id": "A5p3vUIrKFw-"
      },
      "execution_count": null,
      "outputs": []
    },
    {
      "cell_type": "code",
      "source": [
        "IMG_WIDTH=299\n",
        "IMG_HEIGHT=299\n",
        "img_folder=r'/content/char_output_extended/test'"
      ],
      "metadata": {
        "id": "lIzEZA1OKJUM"
      },
      "execution_count": null,
      "outputs": []
    },
    {
      "cell_type": "code",
      "source": [
        "def create_dataset(img_folder):\n",
        "   \n",
        "    img_data_test_array=[]\n",
        "    class_name_test=[]\n",
        "   \n",
        "    for dir1 in os.listdir(img_folder):\n",
        "        for file in os.listdir(os.path.join(img_folder, dir1)):\n",
        "       \n",
        "            image_path= os.path.join(img_folder, dir1,  file)\n",
        "            image= cv2.imread( image_path, cv2.COLOR_BGR2RGB)\n",
        "            image=cv2.resize(image, (IMG_HEIGHT, IMG_WIDTH),interpolation = cv2.INTER_AREA)\n",
        "            image=np.array(image)\n",
        "            image = image.astype('float32')\n",
        "            image /= 255 \n",
        "            img_data_test_array.append(image)\n",
        "            class_name_test.append(dir1)\n",
        "    return img_data_test_array, class_name_test\n",
        "# extract the image array and class name\n",
        "img_test_data, class_name_test =create_dataset(r'/content/char_output_extended/test')"
      ],
      "metadata": {
        "id": "BD66txu_KN4O"
      },
      "execution_count": null,
      "outputs": []
    },
    {
      "cell_type": "code",
      "source": [
        "target_dict_test={k: v for v, k in enumerate(np.unique(class_name_test))}\n",
        "target_dict_test"
      ],
      "metadata": {
        "colab": {
          "base_uri": "https://localhost:8080/"
        },
        "id": "sP_JtB0qKP-S",
        "outputId": "93da9596-4f1d-4777-aabd-76757aead7e7"
      },
      "execution_count": null,
      "outputs": [
        {
          "output_type": "execute_result",
          "data": {
            "text/plain": [
              "{'Aa': 0,\n",
              " 'Aaaa': 1,\n",
              " 'aaha': 2,\n",
              " 'am': 3,\n",
              " 'anna': 4,\n",
              " 'bha': 5,\n",
              " 'cha': 6,\n",
              " 'dha': 7,\n",
              " 'dhaa': 8,\n",
              " 'ee': 9,\n",
              " 'ga': 10,\n",
              " 'ha': 11,\n",
              " 'ja': 12,\n",
              " 'ka': 13,\n",
              " 'la': 14,\n",
              " 'ma': 15,\n",
              " 'na': 16,\n",
              " 'pa': 17,\n",
              " 'ra': 18,\n",
              " 'sya': 19,\n",
              " 'tha': 20,\n",
              " 'va': 21,\n",
              " 'ya': 22,\n",
              " 'yaotthu': 23,\n",
              " 'ye': 24}"
            ]
          },
          "metadata": {},
          "execution_count": 12
        }
      ]
    },
    {
      "cell_type": "code",
      "source": [
        "target_dict={k: v for v, k in enumerate(np.unique(class_name))}\n",
        "target_dict\n"
      ],
      "metadata": {
        "colab": {
          "base_uri": "https://localhost:8080/"
        },
        "id": "mjedbWrrKS4x",
        "outputId": "f05a3cd6-cb58-456b-81a8-93329ca7c6b5"
      },
      "execution_count": null,
      "outputs": [
        {
          "output_type": "execute_result",
          "data": {
            "text/plain": [
              "{'Aa': 0,\n",
              " 'Aaaa': 1,\n",
              " 'aaha': 2,\n",
              " 'am': 3,\n",
              " 'anna': 4,\n",
              " 'bha': 5,\n",
              " 'cha': 6,\n",
              " 'dha': 7,\n",
              " 'dhaa': 8,\n",
              " 'ee': 9,\n",
              " 'ga': 10,\n",
              " 'ha': 11,\n",
              " 'ja': 12,\n",
              " 'ka': 13,\n",
              " 'la': 14,\n",
              " 'ma': 15,\n",
              " 'na': 16,\n",
              " 'pa': 17,\n",
              " 'ra': 18,\n",
              " 'sya': 19,\n",
              " 'tha': 20,\n",
              " 'va': 21,\n",
              " 'ya': 22,\n",
              " 'yaotthu': 23,\n",
              " 'ye': 24}"
            ]
          },
          "metadata": {},
          "execution_count": 13
        }
      ]
    },
    {
      "cell_type": "code",
      "source": [
        "target_val=  [target_dict[class_name[i]] for i in range(len(class_name))]"
      ],
      "metadata": {
        "id": "uCoEPpggKU8Z"
      },
      "execution_count": null,
      "outputs": []
    },
    {
      "cell_type": "code",
      "source": [
        "target_test_val=  [target_dict_test[class_name_test[i]] for i in range(len(class_name_test))]"
      ],
      "metadata": {
        "id": "PF9cwduhKYJH"
      },
      "execution_count": null,
      "outputs": []
    },
    {
      "cell_type": "code",
      "source": [
        "IMG_WIDTH=299\n",
        "IMG_HEIGHT=299\n",
        "img_folder=r'/content/char_output_extended/val'"
      ],
      "metadata": {
        "id": "ce4qXGLbKaKF"
      },
      "execution_count": null,
      "outputs": []
    },
    {
      "cell_type": "code",
      "source": [
        "def create_dataset(img_folder):\n",
        "   \n",
        "    img_data_vali_array=[]\n",
        "    class_name_vali=[]\n",
        "   \n",
        "    for dir1 in os.listdir(img_folder):\n",
        "        for file in os.listdir(os.path.join(img_folder, dir1)):\n",
        "       \n",
        "            image_path= os.path.join(img_folder, dir1,  file)\n",
        "            image= cv2.imread( image_path, cv2.COLOR_BGR2RGB)\n",
        "            image=cv2.resize(image, (IMG_HEIGHT, IMG_WIDTH),interpolation = cv2.INTER_AREA)\n",
        "            image=np.array(image)\n",
        "            image = image.astype('float32')\n",
        "            image /= 255 \n",
        "            img_data_vali_array.append(image)\n",
        "            class_name_vali.append(dir1)\n",
        "    return img_data_vali_array, class_name_vali\n",
        "# extract the image array and class name\n",
        "img_vali_data, class_name_vali =create_dataset(r'/content/char_output_extended/val')"
      ],
      "metadata": {
        "id": "E9FtDld1KdmZ"
      },
      "execution_count": null,
      "outputs": []
    },
    {
      "cell_type": "code",
      "source": [
        "target_dict_vali={k: v for v, k in enumerate(np.unique(class_name_vali))}\n",
        "target_dict_vali"
      ],
      "metadata": {
        "colab": {
          "base_uri": "https://localhost:8080/"
        },
        "id": "X97Tv3N1KhCv",
        "outputId": "8151f8c2-62e8-4997-c282-4790e7c1dcbd"
      },
      "execution_count": null,
      "outputs": [
        {
          "output_type": "execute_result",
          "data": {
            "text/plain": [
              "{'Aa': 0,\n",
              " 'Aaaa': 1,\n",
              " 'aaha': 2,\n",
              " 'am': 3,\n",
              " 'anna': 4,\n",
              " 'bha': 5,\n",
              " 'cha': 6,\n",
              " 'dha': 7,\n",
              " 'dhaa': 8,\n",
              " 'ee': 9,\n",
              " 'ga': 10,\n",
              " 'ha': 11,\n",
              " 'ja': 12,\n",
              " 'ka': 13,\n",
              " 'la': 14,\n",
              " 'ma': 15,\n",
              " 'na': 16,\n",
              " 'pa': 17,\n",
              " 'ra': 18,\n",
              " 'sya': 19,\n",
              " 'tha': 20,\n",
              " 'va': 21,\n",
              " 'ya': 22,\n",
              " 'yaotthu': 23,\n",
              " 'ye': 24}"
            ]
          },
          "metadata": {},
          "execution_count": 18
        }
      ]
    },
    {
      "cell_type": "code",
      "source": [
        "target_vali_val=  [target_dict_vali[class_name_vali[i]] for i in range(len(class_name_vali))]"
      ],
      "metadata": {
        "id": "OyDRNRD6Ki-X"
      },
      "execution_count": null,
      "outputs": []
    },
    {
      "cell_type": "code",
      "source": [
        "vali_data=np.array(img_vali_data, np.float32)\n",
        "vali_labels=np.array(list(map(int,target_vali_val)), np.float32)\n",
        "vali_labels=to_categorical(vali_labels)\n",
        "print(vali_labels.shape)\n",
        "print(vali_data.shape)"
      ],
      "metadata": {
        "colab": {
          "base_uri": "https://localhost:8080/"
        },
        "id": "60LkLdtfKlv4",
        "outputId": "76690a0c-bfdc-40c5-9728-78e16928bc55"
      },
      "execution_count": null,
      "outputs": [
        {
          "output_type": "stream",
          "name": "stdout",
          "text": [
            "(539, 25)\n",
            "(539, 299, 299)\n"
          ]
        }
      ]
    },
    {
      "cell_type": "code",
      "source": [
        "import numpy as np\n",
        "\n",
        "vali_data = np.expand_dims(vali_data[..., 0], axis=-1)\n",
        "print(vali_labels.shape)\n",
        "print(vali_data.shape)"
      ],
      "metadata": {
        "colab": {
          "base_uri": "https://localhost:8080/"
        },
        "id": "7nB3YpZtKnzI",
        "outputId": "1ac40e6e-3927-4190-dde2-b12b7ad832b8"
      },
      "execution_count": null,
      "outputs": [
        {
          "output_type": "stream",
          "name": "stdout",
          "text": [
            "(539, 25)\n",
            "(539, 299, 1)\n"
          ]
        }
      ]
    },
    {
      "cell_type": "code",
      "source": [
        "import os\n",
        "from tensorflow.keras.preprocessing.image import ImageDataGenerator\n",
        "from tensorflow.keras.models import Sequential\n",
        "from tensorflow.keras.layers import Dense, GlobalAveragePooling2D\n",
        "from tensorflow.keras.applications.inception_v3 import InceptionV3\n",
        "from tensorflow.keras import optimizers\n",
        "\n",
        "# Set the directory containing the images\n",
        "data_directory = \"/content/drive/MyDrive/finaldataset\"\n",
        "\n",
        "# Set the number of classes and other hyperparameters\n",
        "num_classes = 25\n",
        "image_size = (299, 299)\n",
        "batch_size = 32\n",
        "epochs = 15\n",
        "learning_rate = 0.0001\n",
        "\n",
        "# Initialize the ImageDataGenerator\n",
        "data_generator = ImageDataGenerator(rescale=1./255, validation_split=0.2)\n",
        "\n",
        "# Load the training data\n",
        "train_generator = data_generator.flow_from_directory(\n",
        "    data_directory,\n",
        "    target_size=image_size,\n",
        "    batch_size=batch_size,\n",
        "    class_mode='categorical',\n",
        "    subset='training'\n",
        ")\n",
        "\n",
        "# Load the validation data\n",
        "validation_generator = data_generator.flow_from_directory(\n",
        "    data_directory,\n",
        "    target_size=image_size,\n",
        "    batch_size=batch_size,\n",
        "    class_mode='categorical',\n",
        "    subset='validation'\n",
        ")\n",
        "\n",
        "# Load the InceptionV3 model\n",
        "base_model = InceptionV3(weights='imagenet', include_top=False, input_shape=(image_size[0], image_size[1], 3))\n",
        "\n",
        "# Create the top layers for the model\n",
        "model = Sequential()\n",
        "model.add(base_model)\n",
        "model.add(GlobalAveragePooling2D())\n",
        "model.add(Dense(1024, activation='relu'))\n",
        "model.add(Dense(num_classes, activation='softmax'))\n",
        "\n",
        "# Compile the model\n",
        "optimizer = optimizers.RMSprop(lr=learning_rate)\n",
        "model.compile(optimizer=optimizer, loss='categorical_crossentropy', metrics=['accuracy'])\n",
        "\n",
        "# Train the model\n",
        "history = model.fit(train_generator, epochs=epochs, validation_data=validation_generator)\n",
        "\n",
        "# Save the trained model\n",
        "model.save('trained_model.h5')\n"
      ],
      "metadata": {
        "colab": {
          "base_uri": "https://localhost:8080/"
        },
        "id": "UXoDvVCyLR-r",
        "outputId": "66cde8e9-0a4f-455a-9102-680f928ed6fd"
      },
      "execution_count": null,
      "outputs": [
        {
          "output_type": "stream",
          "name": "stdout",
          "text": [
            "Found 4519 images belonging to 25 classes.\n",
            "Found 1119 images belonging to 25 classes.\n",
            "Downloading data from https://storage.googleapis.com/tensorflow/keras-applications/inception_v3/inception_v3_weights_tf_dim_ordering_tf_kernels_notop.h5\n",
            "87910968/87910968 [==============================] - 3s 0us/step\n"
          ]
        },
        {
          "output_type": "stream",
          "name": "stderr",
          "text": [
            "WARNING:absl:`lr` is deprecated in Keras optimizer, please use `learning_rate` or use the legacy optimizer, e.g.,tf.keras.optimizers.legacy.RMSprop.\n"
          ]
        },
        {
          "output_type": "stream",
          "name": "stdout",
          "text": [
            "Epoch 1/15\n",
            "142/142 [==============================] - 126s 558ms/step - loss: 2.1514 - accuracy: 0.3614 - val_loss: 43.7498 - val_accuracy: 0.0661\n",
            "Epoch 2/15\n",
            "142/142 [==============================] - 69s 485ms/step - loss: 0.8452 - accuracy: 0.7404 - val_loss: 7.4735 - val_accuracy: 0.4656\n",
            "Epoch 3/15\n",
            "142/142 [==============================] - 68s 478ms/step - loss: 0.4814 - accuracy: 0.8548 - val_loss: 2.6882 - val_accuracy: 0.6899\n",
            "Epoch 4/15\n",
            "142/142 [==============================] - 68s 479ms/step - loss: 0.3313 - accuracy: 0.9002 - val_loss: 1.0232 - val_accuracy: 0.7927\n",
            "Epoch 5/15\n",
            "142/142 [==============================] - 69s 484ms/step - loss: 0.2611 - accuracy: 0.9237 - val_loss: 2.1270 - val_accuracy: 0.7346\n",
            "Epoch 6/15\n",
            "142/142 [==============================] - 69s 483ms/step - loss: 0.2279 - accuracy: 0.9363 - val_loss: 0.8731 - val_accuracy: 0.8293\n",
            "Epoch 7/15\n",
            "142/142 [==============================] - 68s 478ms/step - loss: 0.1865 - accuracy: 0.9462 - val_loss: 0.7086 - val_accuracy: 0.8776\n",
            "Epoch 8/15\n",
            "142/142 [==============================] - 68s 477ms/step - loss: 0.1565 - accuracy: 0.9557 - val_loss: 1.9137 - val_accuracy: 0.7167\n",
            "Epoch 9/15\n",
            "142/142 [==============================] - 68s 479ms/step - loss: 0.1477 - accuracy: 0.9586 - val_loss: 0.5295 - val_accuracy: 0.9026\n",
            "Epoch 10/15\n",
            "142/142 [==============================] - 68s 478ms/step - loss: 0.1319 - accuracy: 0.9624 - val_loss: 0.8195 - val_accuracy: 0.8329\n",
            "Epoch 11/15\n",
            "142/142 [==============================] - 68s 477ms/step - loss: 0.1108 - accuracy: 0.9681 - val_loss: 0.6756 - val_accuracy: 0.8347\n",
            "Epoch 12/15\n",
            "142/142 [==============================] - 68s 481ms/step - loss: 0.1169 - accuracy: 0.9692 - val_loss: 0.5437 - val_accuracy: 0.9017\n",
            "Epoch 13/15\n",
            "142/142 [==============================] - 74s 524ms/step - loss: 0.0925 - accuracy: 0.9741 - val_loss: 0.7239 - val_accuracy: 0.8874\n",
            "Epoch 14/15\n",
            "142/142 [==============================] - 68s 480ms/step - loss: 0.0858 - accuracy: 0.9781 - val_loss: 0.4231 - val_accuracy: 0.9088\n",
            "Epoch 15/15\n",
            "142/142 [==============================] - 68s 479ms/step - loss: 0.0838 - accuracy: 0.9763 - val_loss: 0.8690 - val_accuracy: 0.8257\n"
          ]
        }
      ]
    },
    {
      "cell_type": "code",
      "source": [
        "import numpy as np\n",
        "from tensorflow.keras.preprocessing import image\n",
        "from tensorflow.keras.models import load_model\n",
        "from tensorflow.keras.applications.inception_v3 import preprocess_input\n",
        "\n",
        "# Load the saved InceptionV3 model\n",
        "saved_model_path = 'trained_model.h5'\n",
        "model = load_model(saved_model_path)\n",
        "\n",
        "# Load and preprocess the image\n",
        "image_path = '/content/char_output_extended/test/anna/382.jpg'  # Replace with the path to your image\n",
        "img = image.load_img(image_path, target_size=(299, 299))\n",
        "img_array = image.img_to_array(img)\n",
        "img_array = preprocess_input(img_array)\n",
        "img_array = np.expand_dims(img_array, axis=0)\n",
        "\n",
        "# Make the prediction\n",
        "prediction = model.predict(img_array)\n",
        "predicted_class = np.argmax(prediction)\n",
        "\n",
        "# Print the predicted class\n",
        "print(\"Predicted Class:\", predicted_class)\n"
      ],
      "metadata": {
        "colab": {
          "base_uri": "https://localhost:8080/"
        },
        "id": "EmCKGPGNNSCf",
        "outputId": "b329520d-f7ad-473c-d3cc-056ae2d62998"
      },
      "execution_count": null,
      "outputs": [
        {
          "output_type": "stream",
          "name": "stdout",
          "text": [
            "1/1 [==============================] - 1s 1s/step\n",
            "Predicted Class: 4\n"
          ]
        }
      ]
    },
    {
      "cell_type": "code",
      "source": [
        "from keras.utils.vis_utils import plot_model\n",
        "\n",
        "plot_model(model, to_file='model_plot.png', show_shapes=True, show_layer_names=True)\n"
      ],
      "metadata": {
        "colab": {
          "base_uri": "https://localhost:8080/",
          "height": 533
        },
        "id": "MW1Hbg9TRgIs",
        "outputId": "b006084b-b4b0-44d9-cc44-a4745ddc0de7"
      },
      "execution_count": null,
      "outputs": [
        {
          "output_type": "execute_result",
          "data": {
            "image/png": "[encoded data removed]",
            "text/plain": [
              "<IPython.core.display.Image object>"
            ]
          },
          "metadata": {},
          "execution_count": 24
        }
      ]
    },
    {
      "cell_type": "code",
      "source": [
        "import matplotlib.pyplot as plt\n",
        "\n",
        "\n",
        "\n",
        "# Get the training accuracy and validation accuracy values from the history object\n",
        "train_acc = history.history['accuracy']\n",
        "val_acc = history.history['val_accuracy']\n",
        "\n",
        "# Get the training loss and validation loss values from the history object\n",
        "train_loss = history.history['loss']\n",
        "val_loss = history.history['val_loss']\n",
        "\n",
        "# Plot the accuracy curves\n",
        "plt.plot(train_acc, label='Training Accuracy')\n",
        "plt.plot(val_acc, label='Validation Accuracy')\n",
        "plt.xlabel('Epochs')\n",
        "plt.ylabel('Accuracy')\n",
        "plt.legend()\n",
        "plt.show()\n",
        "\n",
        "# Plot the loss curves\n",
        "plt.plot(train_loss, label='Training Loss')\n",
        "plt.plot(val_loss, label='Validation Loss')\n",
        "plt.xlabel('Epochs')\n",
        "plt.ylabel('Loss')\n",
        "plt.legend()\n",
        "plt.show()\n"
      ],
      "metadata": {
        "colab": {
          "base_uri": "https://localhost:8080/",
          "height": 881
        },
        "id": "EAWHP7F9or0K",
        "outputId": "1f340913-2e62-4621-fb46-6646369c8294"
      },
      "execution_count": null,
      "outputs": [
        {
          "output_type": "display_data",
          "data": {
            "text/plain": [
              "<Figure size 640x480 with 1 Axes>"
            ],
            "image/png": "[encoded data removed]"
          },
          "metadata": {}
        },
        {
          "output_type": "display_data",
          "data": {
            "text/plain": [
              "<Figure size 640x480 with 1 Axes>"
            ],
            "image/png": "[encoded data removed]"
          },
          "metadata": {}
        }
      ]
    },
    {
      "cell_type": "code",
      "source": [],
      "metadata": {
        "id": "0Fce433cpOKA"
      },
      "execution_count": null,
      "outputs": []
    }
  ]
}